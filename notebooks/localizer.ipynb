{
 "cells": [
  {
   "cell_type": "markdown",
   "metadata": {},
   "source": [
    "## Target Localization Using Two Antennas"
   ]
  },
  {
   "cell_type": "code",
   "execution_count": 3,
   "metadata": {
    "collapsed": false
   },
   "outputs": [],
   "source": [
    "import numpy as np\n",
    "import matplotlib.pyplot as plt\n",
    "from matplotlib.patches import Ellipse"
   ]
  },
  {
   "cell_type": "code",
   "execution_count": 4,
   "metadata": {
    "collapsed": false
   },
   "outputs": [
    {
     "name": "stdout",
     "output_type": "stream",
     "text": [
      "Populating the interactive namespace from numpy and matplotlib\n"
     ]
    }
   ],
   "source": [
    "%pylab inline\n",
    "pylab.rcParams['figure.figsize'] = (10, 6)\n",
    "\n",
    "from matplotlib import style\n",
    "style.use('ggplot')"
   ]
  },
  {
   "cell_type": "markdown",
   "metadata": {},
   "source": [
    "## Localization Problem"
   ]
  },
  {
   "cell_type": "markdown",
   "metadata": {},
   "source": [
    "Below we have some code to generate a demo figure for understanding purposes."
   ]
  },
  {
   "cell_type": "code",
   "execution_count": 7,
   "metadata": {
    "collapsed": false
   },
   "outputs": [
    {
     "data": {
      "text/plain": [
       "<matplotlib.text.Text at 0x107ce96d0>"
      ]
     },
     "execution_count": 7,
     "metadata": {},
     "output_type": "execute_result"
    },
    {
     "data": {
      "image/png": "[encoded data removed]",
      "text/plain": [
       "<matplotlib.figure.Figure at 0x1078f0410>"
      ]
     },
     "metadata": {},
     "output_type": "display_data"
    }
   ],
   "source": [
    "e1 = Ellipse(xy=[1,0], width=3, height=2, angle=0)\n",
    "e2 = Ellipse(xy=[-1,0], width=3, height=2, angle=0)\n",
    "\n",
    "fig = plt.figure(0)\n",
    "ax = fig.add_subplot(111, aspect='equal')\n",
    "ax.add_artist(e1)\n",
    "e1.set_facecolor([0,0,0])\n",
    "e1.set_alpha(0.1)\n",
    "\n",
    "ax.add_artist(e2)\n",
    "e2.set_facecolor([0,0,0])\n",
    "e2.set_alpha(0.1)\n",
    "\n",
    "ax.set_xlim(-3, 3)\n",
    "ax.set_ylim(-3, 3)\n",
    "\n",
    "ax.plot(0, 0.75, 'or')\n",
    "ax.plot(0, -0.75, 'xr')\n",
    "\n",
    "ax.text(-0.20, 0.1, 'TX1',\n",
    "        horizontalalignment='left',\n",
    "        verticalalignment='top')\n",
    "\n",
    "ax.text(1.25, 0.1, 'RX1',\n",
    "        horizontalalignment='left',\n",
    "        verticalalignment='top')\n",
    "\n",
    "ax.text(-1.75, 0.1, 'RX2',\n",
    "        horizontalalignment='left',\n",
    "        verticalalignment='top')\n",
    "\n",
    "ax.text(-0.5, 1.25, 'Valid Target',\n",
    "        horizontalalignment='left',\n",
    "        verticalalignment='top')\n",
    "\n",
    "ax.text(-1.2, -1.25, 'Invalid Target as not in LOS',\n",
    "        horizontalalignment='left',\n",
    "        verticalalignment='top')\n"
   ]
  },
  {
   "cell_type": "markdown",
   "metadata": {},
   "source": [
    "Here, we have two ellipses and Transmitter (TX1) is at the foci of both ellipses. For ellipse 1, TX1 and RX1 are the two foci and for ellipse 2, TX2 and RX2 are the two foci. Here are some key points to keep in mind:\n",
    "\n",
    "**c:** Since, antennas would always be in a fixed configuration, 'c' (distance from center to a focal point) would always be the same. For this notebook, we can set it to `1`.\n",
    "\n",
    "**a:** The radius of major axis is known as `a`. From the properties of ellipse, we know that sum of the distances from any point on the boundary of ellipse to the two foci is always same and that is `2a`. `2a` also happens to be the round-trip distance from transmitter to antenna. This means, that given the TOF, we can find `a`. Good.\n",
    "\n",
    "**b**: The last parameter in the equation of ellipse is `b`. It can be solved in terms of `c` & `a`. \n",
    "\n",
    "${b=}\\sqrt{a^2-c^2}$ \n",
    "\n",
    "Since, we have fixed c to 1:\n",
    "\n",
    "$\\implies{b=}\\sqrt{a^2}$ \n",
    "\n",
    "$\\implies{b=a}$ \n",
    "\n",
    "Now, remember, that `a` is equal to the time of flight. This means that `b` for both ellipse would be a different value depending on the time of flight."
   ]
  },
  {
   "cell_type": "markdown",
   "metadata": {},
   "source": [
    "## Solving Ellipse Equations"
   ]
  },
  {
   "cell_type": "markdown",
   "metadata": {},
   "source": [
    "Let's call time of flight from TX1 to RX1 **`t1`** time of flight from TX1 to RX2 **`t2`**. Then we can write equation of ellipses as:\n",
    "\n",
    "$\\frac{(x-c)^2}{a^2} + \\frac{y^2}{b^2} = 1$\n",
    "\n",
    "$\\frac{(x+c)^2}{a^2} + \\frac{y^2}{b^2} = 1$\n",
    "\n",
    "Substitute values of `a` and `b`.\n",
    "\n",
    "$\\frac{(x-c)^2}{t1^2} + \\frac{y^2}{t1^2} = 1$\n",
    "\n",
    "$\\frac{(x+c)^2}{t2^2} + \\frac{y^2}{t2^2} = 1$\n",
    "\n",
    "Simplifying them:\n",
    "\n",
    "$ {(x-1)^2 + y^2 = t1^2}  $\n",
    "\n",
    "$ {(x+1)^2 + y^2 = t2^2}  $\n",
    "\n",
    "Let's find their solutions:"
   ]
  },
  {
   "cell_type": "code",
   "execution_count": 93,
   "metadata": {
    "collapsed": true
   },
   "outputs": [],
   "source": [
    "from sympy.solvers import solve\n",
    "from sympy import symbols"
   ]
  },
  {
   "cell_type": "code",
   "execution_count": 110,
   "metadata": {
    "collapsed": false
   },
   "outputs": [
    {
     "data": {
      "text/plain": [
       "[(-(t1 - t2)*(t1 + t2)/4,\n",
       "  -sqrt(-(t1 - t2 - 2)*(t1 - t2 + 2)*(t1 + t2 - 2)*(t1 + t2 + 2))/4),\n",
       " (-(t1 - t2)*(t1 + t2)/4,\n",
       "  sqrt(-(t1 - t2 - 2)*(t1 - t2 + 2)*(t1 + t2 - 2)*(t1 + t2 + 2))/4)]"
      ]
     },
     "execution_count": 110,
     "metadata": {},
     "output_type": "execute_result"
    }
   ],
   "source": [
    "x, y, t1, t2 = symbols('x y t1 t2')\n",
    "solve([(x-1)**2 + y**2 - t1**2, (x+1)**2 + y**2 - t2**2], [x, y])"
   ]
  },
  {
   "cell_type": "markdown",
   "metadata": {},
   "source": [
    "Now, assume `t1=1` and `t2=2`."
   ]
  },
  {
   "cell_type": "code",
   "execution_count": 113,
   "metadata": {
    "collapsed": false
   },
   "outputs": [
    {
     "data": {
      "text/plain": [
       "[(3/4, -sqrt(15)/4), (3/4, sqrt(15)/4)]"
      ]
     },
     "execution_count": 113,
     "metadata": {},
     "output_type": "execute_result"
    }
   ],
   "source": [
    "solve([(x-1)**2 + y**2 - 1**2, (x+1)**2 + y**2 - 2**2], [x, y])"
   ]
  },
  {
   "cell_type": "markdown",
   "metadata": {},
   "source": [
    "Here, the second solution is valid as it has positive `y` and therefore, is in LOS."
   ]
  },
  {
   "cell_type": "code",
   "execution_count": null,
   "metadata": {
    "collapsed": true
   },
   "outputs": [],
   "source": []
  },
  {
   "cell_type": "code",
   "execution_count": 6,
   "metadata": {
    "collapsed": false
   },
   "outputs": [
    {
     "data": {
      "text/plain": [
       "0.96824583655185426"
      ]
     },
     "execution_count": 6,
     "metadata": {},
     "output_type": "execute_result"
    }
   ],
   "source": [
    "np.sqrt(15)/4"
   ]
  },
  {
   "cell_type": "code",
   "execution_count": null,
   "metadata": {
    "collapsed": true
   },
   "outputs": [],
   "source": []
  }
 ],
 "metadata": {
  "kernelspec": {
   "display_name": "Python 2",
   "language": "python",
   "name": "python2"
  },
  "language_info": {
   "codemirror_mode": {
    "name": "ipython",
    "version": 2
   },
   "file_extension": ".py",
   "mimetype": "text/x-python",
   "name": "python",
   "nbconvert_exporter": "python",
   "pygments_lexer": "ipython2",
   "version": "2.7.12"
  }
 },
 "nbformat": 4,
 "nbformat_minor": 1
}
